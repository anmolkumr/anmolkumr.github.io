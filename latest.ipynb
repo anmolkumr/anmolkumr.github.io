{
  "nbformat": 4,
  "nbformat_minor": 0,
  "metadata": {
    "colab": {
      "provenance": []
    },
    "kernelspec": {
      "name": "python3",
      "display_name": "Python 3"
    },
    "language_info": {
      "name": "python"
    }
  },
  "cells": [
    {
      "cell_type": "markdown",
      "source": [
        "# This Tutorial focuses on SciPy. \n",
        "\n",
        "SciPy - Scientific Python is a free opensource scientific computation library. It provides utility functions for optimization, statistics and signal processing.\n",
        "\n",
        "For references, check its [documentation](https://docs.scipy.org/doc/scipy/tutorial/index.html).\n"
      ],
      "metadata": {
        "id": "etpGzDyqjzjd"
      }
    },
    {
      "cell_type": "code",
      "source": [
        "!pip install numpy"
      ],
      "metadata": {
        "colab": {
          "base_uri": "https://localhost:8080/"
        },
        "id": "YeULhj9cmBnM",
        "outputId": "87f1ea50-5304-4878-8127-b17ed78dcd6d"
      },
      "execution_count": null,
      "outputs": [
        {
          "output_type": "stream",
          "name": "stdout",
          "text": [
            "Looking in indexes: https://pypi.org/simple, https://us-python.pkg.dev/colab-wheels/public/simple/\n",
            "Requirement already satisfied: numpy in /usr/local/lib/python3.8/dist-packages (1.21.6)\n"
          ]
        }
      ]
    },
    {
      "cell_type": "markdown",
      "source": [
        "#Question1. \n",
        "Calculate the L1 & L2 norm for a random 3*3 generated matrix"
      ],
      "metadata": {
        "id": "DSv2P0ig5QGl"
      }
    },
    {
      "cell_type": "code",
      "source": [
        "import numpy as np\n",
        "from scipy.linalg import norm\n",
        "\n",
        "data = np.random.randint(0,10,size = 9).reshape(3,3)\n",
        "# a = np.matrix(data)\n",
        "\n",
        "print(data)\n",
        "norm1 = norm(data,1)\n",
        "\n",
        "print(norm1)\n",
        "\n",
        "# For L2 Norm\n",
        "\n",
        "norm2 = norm(data)\n",
        "print(\"Norm 2 :\\n\",norm2)"
      ],
      "metadata": {
        "id": "tQ-rErgHwbLp",
        "colab": {
          "base_uri": "https://localhost:8080/"
        },
        "outputId": "12468b34-c3a5-4125-e289-66a2c9d623ee"
      },
      "execution_count": null,
      "outputs": [
        {
          "output_type": "stream",
          "name": "stdout",
          "text": [
            "[[7 2 7]\n",
            " [3 9 9]\n",
            " [3 4 6]]\n",
            "22.0\n",
            "Norm 2 :\n",
            " 18.275666882497067\n"
          ]
        }
      ]
    },
    {
      "cell_type": "markdown",
      "source": [
        "#Question2.\n",
        "Find the value of a & b using scipy's least-square solution function for the relation $y = a + bx^3$ using the following data points:\n",
        "\n",
        "    x = np.array([1, 3, 4, 5, 6, 7, 9])\n",
        "    y = np.array([0.3, 1.4, 1.7, 2.4, 3.5, 6.7, 9.4])\n",
        "\n",
        "Also, plot the graph containing the x & y points and the final function"
      ],
      "metadata": {
        "id": "HuBHGGiD7cjM"
      }
    },
    {
      "cell_type": "code",
      "source": [],
      "metadata": {
        "id": "qOP7TRPMweWi"
      },
      "execution_count": null,
      "outputs": []
    },
    {
      "cell_type": "markdown",
      "source": [
        "#Question 3.\n",
        " Use scipy.io function to read in a .mat file, extract the data from the file and use it to fit the function (y = a+bx)? Create a .mat file containing the following data (Hint: Use scipy.io)\n",
        "\n",
        "    x_data = [1, 2, 3, 4, 5]\n",
        "    y_data = [3, 5, 7, 9, 11]\n"
      ],
      "metadata": {
        "id": "kbskXWWf878m"
      }
    },
    {
      "cell_type": "code",
      "source": [],
      "metadata": {
        "id": "Ftf52OZpwjN6"
      },
      "execution_count": null,
      "outputs": []
    },
    {
      "cell_type": "markdown",
      "source": [
        "# Question 4.\n",
        "Solve the set of linear equations using scipy.\n",
        "$$\n",
        "x + y + z = 9\n",
        "$$\n",
        "$$\n",
        "2x – y + z = 5\n",
        "$$\n",
        "$$\n",
        "4x + y – z = 7\n",
        "$$"
      ],
      "metadata": {
        "id": "lpeFZfcIyx1i"
      }
    },
    {
      "cell_type": "code",
      "source": [
        "import numpy as np\n",
        "from scipy import linalg\n",
        "\n",
        "A = [\n",
        "    [1,1,1],\n",
        "    [2,1,1],\n",
        "    [4,1,-1]\n",
        "]\n",
        "b = np.array([9,5,7]).reshape(3,1)\n",
        "ans = linalg.solve(A,b)\n",
        "ans"
      ],
      "metadata": {
        "id": "glOMqquhwmCz",
        "colab": {
          "base_uri": "https://localhost:8080/"
        },
        "outputId": "b11abdbe-b75f-4e61-fc24-f25393dd66c2"
      },
      "execution_count": null,
      "outputs": [
        {
          "output_type": "execute_result",
          "data": {
            "text/plain": [
              "array([[-4.],\n",
              "       [18.],\n",
              "       [-5.]])"
            ]
          },
          "metadata": {},
          "execution_count": 3
        }
      ]
    },
    {
      "cell_type": "markdown",
      "source": [
        "#Question 5.\n",
        "Using numpy, create an array consisting of the numbers from 1 to 20 and use scipy to generate its fast fourier transformation.\n",
        "Also find its inverse transformation."
      ],
      "metadata": {
        "id": "x8VgW-ho_4KZ"
      }
    },
    {
      "cell_type": "code",
      "source": [
        "a = np.arange(1,20)\n",
        "from scipy.fft import fft,ifft\n",
        "x = fft(a)\n",
        "print('FFT of a: \\n', x)\n",
        "\n",
        "inverse = ifft(a)\n",
        "print('Inverse Transformation: \\n', inverse)\n"
      ],
      "metadata": {
        "id": "7Jq8UdZgL18x",
        "colab": {
          "base_uri": "https://localhost:8080/"
        },
        "outputId": "63ca348c-96d3-426c-9ed0-c0b62f8e32b6"
      },
      "execution_count": null,
      "outputs": [
        {
          "output_type": "stream",
          "name": "stdout",
          "text": [
            "FFT of a: \n",
            " [190.  -0.j          -9.5+56.93037886j  -9.5+27.67255462j\n",
            "  -9.5+17.55446244j  -9.5+12.20560025j  -9.5 +8.74536608j\n",
            "  -9.5 +6.20665977j  -9.5 +4.16708636j  -9.5 +2.40572673j\n",
            "  -9.5 +0.78719244j  -9.5 -0.78719244j  -9.5 -2.40572673j\n",
            "  -9.5 -4.16708636j  -9.5 -6.20665977j  -9.5 -8.74536608j\n",
            "  -9.5-12.20560025j  -9.5-17.55446244j  -9.5-27.67255462j\n",
            "  -9.5-56.93037886j]\n",
            "Inverse Transformation: \n",
            " [10. -0.j         -0.5-2.99633573j -0.5-1.45645024j -0.5-0.92391908j\n",
            " -0.5-0.64240001j -0.5-0.46028243j -0.5-0.3266663j  -0.5-0.21932033j\n",
            " -0.5-0.1266172j  -0.5-0.04143118j -0.5+0.04143118j -0.5+0.1266172j\n",
            " -0.5+0.21932033j -0.5+0.3266663j  -0.5+0.46028243j -0.5+0.64240001j\n",
            " -0.5+0.92391908j -0.5+1.45645024j -0.5+2.99633573j]\n"
          ]
        }
      ]
    },
    {
      "cell_type": "markdown",
      "source": [
        "#Question 6\n",
        "\n",
        "Similar to the previous question, but now, generate FFT of a 2D array.\n",
        "\n",
        "Create a random integer array of size 4*5 and use scipy to find its Fast Fourier transformation and also find the inverse of the resulting array (FFT)."
      ],
      "metadata": {
        "id": "0ocZmPlnBKbH"
      }
    },
    {
      "cell_type": "code",
      "source": [
        "arr = np.random.randint(1,50,20).reshape(4,5)\n",
        "\n",
        "from scipy.fft import fft,ifft\n",
        "print ('Generated Array \\n',arr)\n",
        "\n",
        "newfft = fft(arr)\n",
        "\n",
        "print('Fft :\\n', newfft)\n",
        "\n",
        "newinverse = ifft(newfft)\n",
        "print('Inverse :\\n', newinverse)"
      ],
      "metadata": {
        "id": "VDeILiA2jYwh",
        "colab": {
          "base_uri": "https://localhost:8080/"
        },
        "outputId": "19bbeb26-32d9-4a6a-bacc-fdd66955dafa"
      },
      "execution_count": null,
      "outputs": [
        {
          "output_type": "stream",
          "name": "stdout",
          "text": [
            "Generated Array \n",
            " [[ 3 19  5 23  9]\n",
            " [47 33  6  4 38]\n",
            " [37 20 46 35 21]\n",
            " [40 45 16 24 28]]\n",
            "Fft :\n",
            " [[ 59.         -0.j         -11.         +1.06956938j\n",
            "  -11.        -22.99686982j -11.        +22.99686982j\n",
            "  -11.         -1.06956938j]\n",
            " [128.         -0.j          60.85003666 +3.57971208j\n",
            "   -7.35003666 +4.84103929j  -7.35003666 -4.84103929j\n",
            "   60.85003666 -3.57971208j]\n",
            " [159.         -0.j         -15.86067977 -5.51458126j\n",
            "   28.86067977+11.04940693j  28.86067977-11.04940693j\n",
            "  -15.86067977 +5.51458126j]\n",
            " [153.         -0.j          30.19756081-11.46567876j\n",
            "   -6.69756081-17.60080142j  -6.69756081+17.60080142j\n",
            "   30.19756081+11.46567876j]]\n",
            "Inverse :\n",
            " [[ 3.+0.j 19.+0.j  5.+0.j 23.+0.j  9.+0.j]\n",
            " [47.+0.j 33.+0.j  6.+0.j  4.+0.j 38.+0.j]\n",
            " [37.+0.j 20.+0.j 46.+0.j 35.+0.j 21.+0.j]\n",
            " [40.+0.j 45.+0.j 16.+0.j 24.+0.j 28.+0.j]]\n"
          ]
        }
      ]
    },
    {
      "cell_type": "markdown",
      "source": [
        "#Question 7.\n",
        "Create a sine wave with a frequency of 50Hz and apply FFT on it. Plot the result using matplotlib. "
      ],
      "metadata": {
        "id": "ptZ47g_-ihEq"
      }
    },
    {
      "cell_type": "code",
      "source": [],
      "metadata": {
        "id": "XI9daGXSja6I"
      },
      "execution_count": null,
      "outputs": []
    }
  ]
}