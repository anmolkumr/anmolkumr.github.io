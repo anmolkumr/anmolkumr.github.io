{
 "cells": [
  {
   "attachments": {},
   "cell_type": "markdown",
   "metadata": {},
   "source": [
    "#### Binary Search using Iterative method"
   ]
  },
  {
   "cell_type": "code",
   "execution_count": 11,
   "metadata": {},
   "outputs": [
    {
     "data": {
      "text/plain": [
       "-1"
      ]
     },
     "execution_count": 11,
     "metadata": {},
     "output_type": "execute_result"
    }
   ],
   "source": [
    "def binary(lst,x):\n",
    "    low = 0\n",
    "    high = len(lst)-1\n",
    "    \n",
    "   \n",
    "    while low<=high:\n",
    "        mid = (low + high) //2\n",
    "        if lst[mid] == x:\n",
    "            return print(\"Present at Index:\",mid)\n",
    "        elif lst[mid] < x:\n",
    "            low = mid +1\n",
    "        else:\n",
    "            high = mid - 1\n",
    "    return -1\n",
    "\n",
    "lst = [10,23,33,40,56,63,72,81,90]\n",
    "x = 100\n",
    "\n",
    "binary(lst,x)\n"
   ]
  },
  {
   "attachments": {},
   "cell_type": "markdown",
   "metadata": {},
   "source": [
    "#### Binary Search in Recursive Method\n"
   ]
  },
  {
   "cell_type": "code",
   "execution_count": 24,
   "metadata": {},
   "outputs": [
    {
     "data": {
      "text/plain": [
       "0"
      ]
     },
     "execution_count": 24,
     "metadata": {},
     "output_type": "execute_result"
    }
   ],
   "source": [
    "def binsearch(lst1,ele, low, high):\n",
    " if low> high:\n",
    "     return -1\n",
    " middle =  (low + high) // 2\n",
    " if lst1[middle] == ele:\n",
    "     return middle\n",
    " elif lst1[middle] < ele:\n",
    "     return binsearch(lst1, ele,middle + 1, high)\n",
    " else:\n",
    "     return binsearch(lst1, ele, low, middle -1 )\n",
    " \n",
    "lst1 = [10,23,33,40,56,63,72,81,90]\n",
    "ele = 10\n",
    "\n",
    "\n",
    "binsearch(lst1,ele,0,9)"
   ]
  }
 ],
 "metadata": {
  "kernelspec": {
   "display_name": "Python 3",
   "language": "python",
   "name": "python3"
  },
  "language_info": {
   "codemirror_mode": {
    "name": "ipython",
    "version": 3
   },
   "file_extension": ".py",
   "mimetype": "text/x-python",
   "name": "python",
   "nbconvert_exporter": "python",
   "pygments_lexer": "ipython3",
   "version": "3.11.1"
  },
  "orig_nbformat": 4,
  "vscode": {
   "interpreter": {
    "hash": "e4ebe6952790d5938064e66cb21cf54ade192ac28fbcff8d582788d352f4fa1a"
   }
  }
 },
 "nbformat": 4,
 "nbformat_minor": 2
}
